{
 "cells": [
  {
   "cell_type": "markdown",
   "metadata": {},
   "source": [
    "### Ejercicio 1"
   ]
  },
  {
   "cell_type": "markdown",
   "metadata": {},
   "source": [
    "Desarrollar un notebook de Jupyter, denominado “tweetCount.ipynb” en el que se utilice como fuente de datos Kafka, y en concreto el topic kafkaTwitter:\n",
    "\n",
    "- se establezca una duración de batch de un segundo\n",
    "- se muestre, cada 5 segundos\n",
    "- el número de tweets recibidos en los últimos 10 segundos."
   ]
  },
  {
   "cell_type": "code",
   "execution_count": 58,
   "metadata": {},
   "outputs": [],
   "source": [
    "import findspark\n",
    "import requests\n",
    "import os\n",
    "from pyspark import SparkContext, SparkConf\n",
    "from pyspark.streaming import StreamingContext\n",
    "from pyspark.sql import SQLContext\n",
    "from pyspark.sql.functions import desc\n",
    "from pyspark.streaming.kafka import KafkaUtils"
   ]
  },
  {
   "cell_type": "code",
   "execution_count": 59,
   "metadata": {},
   "outputs": [],
   "source": [
    "# ubicación de spark\n",
    "findspark.init('/home/j/spark-2.4.7-bin-hadoop2.7')"
   ]
  },
  {
   "cell_type": "code",
   "execution_count": 61,
   "metadata": {},
   "outputs": [],
   "source": [
    "# necesario para cargar la librería de spark streaming y kafka\n",
    "os.environ['PYSPARK_SUBMIT_ARGS'] = '--packages org.apache.spark:spark-streaming-kafka-0-8_2.11:2.4.7 pyspark-shell'"
   ]
  },
  {
   "cell_type": "code",
   "execution_count": 63,
   "metadata": {},
   "outputs": [],
   "source": [
    "# nombre del topic\n",
    "topic = 'kafkaTwitter'"
   ]
  },
  {
   "cell_type": "code",
   "execution_count": 64,
   "metadata": {},
   "outputs": [],
   "source": [
    "# creación de los contextos de spark\n",
    "sc = SparkContext(\"local[*]\")\n",
    "ssc = StreamingContext(sc, 1)"
   ]
  },
  {
   "cell_type": "code",
   "execution_count": 65,
   "metadata": {
    "scrolled": true
   },
   "outputs": [],
   "source": [
    "# creación del DStream a partir de Kafka\n",
    "kafkaStream = KafkaUtils.createDirectStream(ssc, [topic], {\n",
    "                        'bootstrap.servers':'localhost:9092, localhost:9093',\n",
    "                        'group.id':'test-group'})"
   ]
  },
  {
   "cell_type": "code",
   "execution_count": 68,
   "metadata": {},
   "outputs": [],
   "source": [
    "# ventana de los tweets definida tal cual se pide en el ejercicio:\n",
    "# - tweets recibidos en los últimos 10 segundos\n",
    "# - muetra cada 5 segundos\n",
    "tweets = kafkaStream.window(10,5)"
   ]
  },
  {
   "cell_type": "code",
   "execution_count": 69,
   "metadata": {},
   "outputs": [],
   "source": [
    "# impresión de los batches tal cual están configurados\n",
    "tweets.pprint()"
   ]
  },
  {
   "cell_type": "code",
   "execution_count": 70,
   "metadata": {},
   "outputs": [
    {
     "name": "stdout",
     "output_type": "stream",
     "text": [
      "-------------------------------------------\n",
      "Time: 2020-12-22 13:46:03\n",
      "-------------------------------------------\n",
      "(None, 'Seguridad Apple - El phishing de Apple ya es detectado por Google Chrome y el dominio tumbado http://t.co/G3nO51K7FX #Apple #phishing')\n",
      "(None, 'Me da #vergüenza el #debate entre @Canete2014_ y @ElenaValenciano. Basta ya de este tipo de política.')\n",
      "(None, 'HP estaría preparando un portátil Windows de solament...http://t.co/DvQjGepeAd')\n",
      "(None, 'Nuestro Secretario Político Íñigo Errejón (@ierrejon) estará esta mañana en @DebatAlRojoVivo. ¡No te lo pierdas! http://t.co/P2ZvYZgWUD')\n",
      "(None, 'Alguien quiere hablar en wpp? Pidemelo :D😘 - Ahora no tengo ganas, me voy a dormir y in...   http://t.co/dIEPCPTD6F')\n",
      "(None, 'Audi crea el combustible del futuro con aire y agua  http://t.co/NFTgHz7Uq8 http://t.co/dBhHlusNDZ')\n",
      "(None, 'Sony Xperia M4 Aqua ya puede ser tuyo por 299 euros - http://t.co/mXwfnx8tPt http://t.co/OZvPUjoP9A')\n",
      "(None, 'Más leída 24h: Viñeta publicada en \"de Volkskrant\" (Países Bajos) en referencia al OXI griego https://t.co/TsgWpJXoX1')\n",
      "(None, '¿Deberían los fabricantes Android entregarse a la gama media? http://t.co/GQgzQ6ZAnb http://t.co/t8lZBRS3AF')\n",
      "(None, '.@martinezmaillo \"Gracias al esfuerzo de los españoles, hemos podido convertir la crisis en recuperación y esperanza\"')\n",
      "...\n",
      "\n",
      "-------------------------------------------\n",
      "Time: 2020-12-22 13:46:08\n",
      "-------------------------------------------\n",
      "(None, 'Seguridad Apple - El phishing de Apple ya es detectado por Google Chrome y el dominio tumbado http://t.co/G3nO51K7FX #Apple #phishing')\n",
      "(None, 'Me da #vergüenza el #debate entre @Canete2014_ y @ElenaValenciano. Basta ya de este tipo de política.')\n",
      "(None, 'HP estaría preparando un portátil Windows de solament...http://t.co/DvQjGepeAd')\n",
      "(None, 'Nuestro Secretario Político Íñigo Errejón (@ierrejon) estará esta mañana en @DebatAlRojoVivo. ¡No te lo pierdas! http://t.co/P2ZvYZgWUD')\n",
      "(None, 'Alguien quiere hablar en wpp? Pidemelo :D😘 - Ahora no tengo ganas, me voy a dormir y in...   http://t.co/dIEPCPTD6F')\n",
      "(None, 'Audi crea el combustible del futuro con aire y agua  http://t.co/NFTgHz7Uq8 http://t.co/dBhHlusNDZ')\n",
      "(None, 'Sony Xperia M4 Aqua ya puede ser tuyo por 299 euros - http://t.co/mXwfnx8tPt http://t.co/OZvPUjoP9A')\n",
      "(None, 'Más leída 24h: Viñeta publicada en \"de Volkskrant\" (Países Bajos) en referencia al OXI griego https://t.co/TsgWpJXoX1')\n",
      "(None, '¿Deberían los fabricantes Android entregarse a la gama media? http://t.co/GQgzQ6ZAnb http://t.co/t8lZBRS3AF')\n",
      "(None, '.@martinezmaillo \"Gracias al esfuerzo de los españoles, hemos podido convertir la crisis en recuperación y esperanza\"')\n",
      "...\n",
      "\n",
      "-------------------------------------------\n",
      "Time: 2020-12-22 13:46:13\n",
      "-------------------------------------------\n",
      "(None, 'Google I/O 2015: los números que necesitas saber - http://t.co/wKSkoiW0Pd http://t.co/nBGHjm5ywA')\n",
      "(None, '¿Sabías por qué la letra Courier es tan útil para los guionistas de cine? http://t.co/ArMCogDYMN vía @microsiervos')\n",
      "(None, 'Miembros del Circulo Animalista Podemos Elche, esta mañana en la SER para abordar el tema del maltrato animal en... http://t.co/9ejE92sTfq')\n",
      "(None, '.@pablocasado_  ofrece una rueda de prensa. Síguela en directo en http://t.co/MVt7JTx7fY http://t.co/XD7LwOzGsk')\n",
      "(None, 'Estas son las novedades de Android Wear que intentarán convencerte para usarlo http://t.co/moZt81C9FO http://t.co/yt2oAF5Svh')\n",
      "(None, 'Las 6 cosas que la gente tímida puede enseñarnos sobre el éxito http://t.co/7WM2nXX90Q http://t.co/4qPXMRLLc3')\n",
      "(None, 'Nada es mas lento que yo… http://t.co/J32vspHr1J')\n",
      "(None, 'Alguien viene a Minecraft a grabar SkyWars o Alguna cosa asi?? :D .Skype:MrCeLeCraft')\n",
      "(None, 'Marco Asensio elige el Espanyol: Marco Asensio ya ha elegido en qué equipo quiere jugar esta temporada. El Rea... http://t.co/wYbEG6fhM7')\n",
      "(None, 'El FMI confirma el impago de Grecia y declara al país \"en mora\" https://t.co/fNI7lZL0uF http://t.co/HOaDVwt374')\n",
      "...\n",
      "\n",
      "-------------------------------------------\n",
      "Time: 2020-12-22 13:46:18\n",
      "-------------------------------------------\n",
      "(None, 'Con la ventaja de Venezuela el público del Coliseo se mete en el juego.#JuntosSomosMas')\n",
      "(None, '#Valladolid Todos los grupos salvo el PP y Ciudadanos piden la dimisión como concejal de Presencio http://t.co/L1LjlK28ES')\n",
      "(None, 'JaJA Qe Genia Gladi Florimonte .Un Cago De Risa :D')\n",
      "(None, 'Lo nuevo de Starbreeze es un juego para realidad virtual de John Wick http://t.co/FEwiRR32gz')\n",
      "(None, '¡Ya quedan pocos días! ¡MEDCIENCIA ESTARÁ EN LOS PREMIOS 20BLOGS! ¡Necesitamos tu apoyo! http://t.co/ZHyKfgVlMe http://t.co/nG1Rk733KM')\n",
      "(None, '@gabrielboric voy en calidad de empleado, no de ciudadano :P')\n",
      "(None, '@metricoymedio somos las mejores bebé jajajajaja :D')\n",
      "(None, 'Al C# lo que es del C#.')\n",
      "(None, '\"Hasta dentro de 10 años Grecia no paga intereses, y capital hasta dentro de 30\". @marianorajoy ya en @cope_es http://t.co/aKPlWXuy8d')\n",
      "(None, 'Los movimientos oculares de la fase REM delatan lo que sueñas http://t.co/onknDVsB0c http://t.co/c42MTOPkk0')\n",
      "...\n",
      "\n",
      "-------------------------------------------\n",
      "Time: 2020-12-22 13:46:23\n",
      "-------------------------------------------\n",
      "(None, 'Sanidad universal  también en Cantabria. @noexclusion  https://t.co/8LUdfOoiW7')\n",
      "(None, 'Hay que continuar con el cambio, no podemos volver atrás con las viejas recetas que fracasaron @marianorajoy #TrabajarHacerCrecer')\n",
      "(None, 'ReCore, el juego de Inafune y Armature Studio, podría llegar también a PC http://t.co/7ylnmR5Qqy')\n",
      "(None, 'Curso de corta duración de la #UAM: \"Computación de alto rendimiento HPC (3ª edición)\" http://t.co/y7x5icAkTO')\n",
      "(None, '@Dayanb8 Cierto cierto... ya paro xD')\n",
      "(None, 'Pierre Curie ligando… http://t.co/DnwX5h29CM')\n",
      "(None, '@drevin92 Lo miramos e intentamos solucionarlo. Gracias por el aviso ;-)')\n",
      "(None, '\"Miners in the sun\" puesto 13 en itunes, felicitaciones @WillyrexYT 👏 ahre http://t.co/V2NINauocM')\n",
      "(None, 'jajajajajajajaja que lacreo :D :D :D jajajajajajaj .Dixon Joya Omar Ramirez Gallo Leandro Jose Amayaa http://t.co/Ij2idp1jN0')\n",
      "(None, '@GuiasTacticasES Quizás has dicho que solo sale en PS4 el juego cuando en principio sale en PS3/360/ONE y diría que PC')\n",
      "...\n",
      "\n"
     ]
    }
   ],
   "source": [
    "# iniciado del stream\n",
    "ssc.start()\n",
    "\n",
    "# nota un log de output para que se vea como funciona"
   ]
  },
  {
   "cell_type": "code",
   "execution_count": 71,
   "metadata": {},
   "outputs": [],
   "source": [
    "ssc.stop()"
   ]
  }
 ],
 "metadata": {
  "kernelspec": {
   "display_name": "Python 3",
   "language": "python",
   "name": "python3"
  },
  "language_info": {
   "codemirror_mode": {
    "name": "ipython",
    "version": 3
   },
   "file_extension": ".py",
   "mimetype": "text/x-python",
   "name": "python",
   "nbconvert_exporter": "python",
   "pygments_lexer": "ipython3",
   "version": "3.7.9"
  }
 },
 "nbformat": 4,
 "nbformat_minor": 4
}
