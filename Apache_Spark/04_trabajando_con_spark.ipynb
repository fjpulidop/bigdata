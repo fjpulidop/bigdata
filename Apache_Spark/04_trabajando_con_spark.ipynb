{
 "cells": [
  {
   "cell_type": "markdown",
   "metadata": {},
   "source": [
    "## Spark Core: Resilient Distributed Dataset\n",
    "\n",
    "- Son estructuras de datos que contienen elementos que pueden ser manipulados en paralelo\n",
    "    - Distribuidos en un conjunto de máquinas/nodos de computación\n",
    "    - Las transformaciones de datos se pueden recrear/regenerar en caso de fallo de nodo/máquina o corrupción de memoria\n",
    "    \n",
    "- Abstracciones de bajo nivel en Spark 2.x\n",
    "    - Datasets, Dataframes (API de programación, abastracciones de alto nivel)\n",
    "        - dataset.rdd()\n",
    "        - SparkSession.createDataset(rdd), SparkSession.createDataFrame(rdd)\n",
    "    - Todos los datos son representados como RDDs\n",
    "\n",
    "- RDDs en Scala -> Scala Collection Library"
   ]
  },
  {
   "cell_type": "markdown",
   "metadata": {},
   "source": [
    "## Fundamentos de RDDs\n",
    "\n",
    "- Hay dos tipos de operaciones con RDD\n",
    "    - Transformaciones: define las operaciones\n",
    "        - Creación de DAGs(Direct Acyclic Graph): define cómo se va a ejecutar la operación.\n",
    "        - Evaluaciones \"en diferido/vagas/perezosas\" (lazy): no se ejecutará esa transformación hasta que no se ejecute un evento adicional\n",
    "        - No devuelven valores\n",
    "    - Acciones: ejecuta operaciones y devuelve resultados\n",
    "        - Ejecutan las transformaciones y la propia acción\n",
    "        - Devuelven un valor\n",
    "    - Son tolerantes a fallos\n",
    "    - Se pueden cachear\n",
    "    - Ejemplo de flujo\n",
    "        - Hadoop RDD > RDD Filtrado > RDD Mapeado > RDD Reducido\n",
    "\n",
    "- Los RDDs son inmutables\n",
    "\n",
    "- Existen tres métodos para crear RDDs\n",
    "    - Paralelizar una colección ya existente\n",
    "    - Referenciar un Dataset\n",
    "    - Usar una transformación de un RDD existente\n",
    "\n",
    "- Cuando se crea un RDD se crea un DAG\n",
    "    - Las transformaciones actualizan el DAG pero no se \"ejecuta\" nada, hasta que asignemos en el código una acción\n",
    "\n",
    "- Los datasets pueden usarse desde cualquier tipo de almacenamiento soportado por Hadoop: HDFS, Cassandra, Hbase, Amazon S3, etc.\n",
    "\n",
    "- Tipo de ficheros soportados\n",
    "    - Texto\n",
    "    - Ficheros secuenciales (SequenceFiles)\n",
    "    - Hadoop (InputFormat)"
   ]
  },
  {
   "cell_type": "markdown",
   "metadata": {},
   "source": [
    "- Ejemplo de creación de un RDD a partir de una colección existente"
   ]
  },
  {
   "cell_type": "code",
   "execution_count": 3,
   "metadata": {},
   "outputs": [],
   "source": [
    "# Spark-shell\n",
    "# val data = 1 to 10000\n",
    "# val miRdd = sc.parallelize(data)\n",
    "# val filtered = miRdd.filter(x => x<10)\n",
    "# filtered.collect()"
   ]
  },
  {
   "cell_type": "code",
   "execution_count": null,
   "metadata": {},
   "outputs": [],
   "source": [
    "# PySpark"
   ]
  },
  {
   "cell_type": "code",
   "execution_count": 1,
   "metadata": {},
   "outputs": [],
   "source": [
    "data = range(1,10001)"
   ]
  },
  {
   "cell_type": "code",
   "execution_count": 2,
   "metadata": {},
   "outputs": [],
   "source": [
    "miRdd = sc.parallelize(data) # crea rdd"
   ]
  },
  {
   "cell_type": "code",
   "execution_count": 3,
   "metadata": {},
   "outputs": [],
   "source": [
    "filtered = miRdd.filter(lambda x:x<10) # lambda <argumento de entrada>:<función>, devuelve un rdd nuevo"
   ]
  },
  {
   "cell_type": "code",
   "execution_count": 5,
   "metadata": {},
   "outputs": [
    {
     "data": {
      "text/plain": [
       "[1, 2, 3, 4, 5, 6, 7, 8, 9]"
      ]
     },
     "execution_count": 5,
     "metadata": {},
     "output_type": "execute_result"
    }
   ],
   "source": [
    "filtered.collect() # ejecuta la acción que hace que se realicen las transformaciones"
   ]
  },
  {
   "cell_type": "code",
   "execution_count": 6,
   "metadata": {},
   "outputs": [
    {
     "data": {
      "text/plain": [
       "b'(12) PythonRDD[1] at collect at <ipython-input-4-21dab2cd9579>:1 []\\n |   ParallelCollectionRDD[0] at readRDDFromFile at PythonRDD.scala:262 []'"
      ]
     },
     "execution_count": 6,
     "metadata": {},
     "output_type": "execute_result"
    }
   ],
   "source": [
    "filtered.toDebugString()"
   ]
  },
  {
   "cell_type": "markdown",
   "metadata": {},
   "source": [
    "| Transformation|\tMeaning\n",
    "|---|---|\n",
    "|map(func)|\tReturn a new distributed dataset formed by passing each element of the source through a function func.|\n",
    "|filter(func)|\tReturn a new dataset formed by selecting those elements of the source on which func returns true.|\n",
    "|flatMap(func)|\tSimilar to map, but each input item can be mapped to 0 or more output items (so func should return a Seq rather than a single item).|\n",
    "|mapPartitions(func)|\tSimilar to map, but runs separately on each partition (block) of the RDD, so func must be of type Iterator<T> => Iterator<U> when running on an RDD of type T.|\n",
    "|mapPartitionsWithIndex(func)|\tSimilar to mapPartitions, but also provides func with an integer value representing the index of the partition, so func must be of type (Int, Iterator<T>) => |Iterator<U> when running on an RDD of type T.\n",
    "|sample(withReplacement, fraction, seed)|\tSample a fraction fraction of the data, with or without replacement, using a given random number generator seed.|\n",
    "|union(otherDataset)|\tReturn a new dataset that contains the union of the elements in the source dataset and the argument.|\n",
    "|intersection(otherDataset)|\tReturn a new RDD that contains the intersection of elements in the source dataset and the argument.|\n",
    "|distinct([numPartitions]))|\tReturn a new dataset that contains the distinct elements of the source dataset.|\n",
    "|groupByKey([numPartitions])|\tWhen called on a dataset of (K, V) pairs, returns a dataset of (K, Iterable<V>) pairs.Note: If you are grouping in order to perform an aggregation (such as a sum or average) over each key, using reduceByKey or aggregateByKey will yield much better performance.Note: By default, the level of parallelism in the output depends on the number of partitions of the parent RDD. You can pass an optional numPartitions argument to set a different number of tasks.|\n",
    "|reduceByKey(func, [numPartitions])|\tWhen called on a dataset of (K, V) pairs, returns a dataset of (K, V) pairs where the values for each key are aggregated using the given reduce function func, which |must be of type (V,V) => V. Like in groupByKey, the number of reduce tasks is configurable through an optional second argument.\n",
    "|aggregateByKey(zeroValue)(seqOp, combOp, [numPartitions])|\tWhen called on a dataset of (K, V) pairs, returns a dataset of (K, U) pairs where the values for each key are aggregated using the given |combine functions and a neutral \"zero\" value. Allows an aggregated value type that is different than the input value type, while avoiding unnecessary allocations. Like in groupByKey, the number of reduce tasks is configurable through an optional second argument.\n",
    "|sortByKey([ascending], [numPartitions])|\tWhen called on a dataset of (K, V) pairs where K implements Ordered, returns a dataset of (K, V) pairs sorted by keys in ascending or descending |order, as specified in the boolean ascending argument.\n",
    "|join(otherDataset, [numPartitions])|\tWhen called on datasets of type (K, V) and (K, W), returns a dataset of (K, (V, W)) pairs with all pairs of elements for each key. Outer joins are supported |through leftOuterJoin, rightOuterJoin, and fullOuterJoin.\n",
    "|cogroup(otherDataset, [numPartitions])|\tWhen called on datasets of type (K, V) and (K, W), returns a dataset of (K, (Iterable<V>, Iterable<W>)) tuples. This operation is also called groupWith.|\n",
    "|cartesian(otherDataset)|\tWhen called on datasets of types T and U, returns a dataset of (T, U) pairs (all pairs of elements).|\n",
    "|pipe(command, [envVars])|\tPipe each partition of the RDD through a shell command, e.g. a Perl or bash script. RDD elements are written to the process's stdin and lines output to its stdout are |returned as an RDD of strings.\n",
    "|coalesce(numPartitions)|\tDecrease the number of partitions in the RDD to numPartitions. Useful for running operations more efficiently after filtering down a large dataset.|\n",
    "|repartition(numPartitions)|\tReshuffle the data in the RDD randomly to create either more or fewer partitions and balance it across them. This always shuffles all data over the network.|\n",
    "|repartitionAndSortWithinPartitions(partitioner)|\tRepartition the RDD according to the given partitioner and, within each resulting partition, sort records by their keys. This is more efficient |than calling repartition and then sorting within each partition because it can push the sorting down into the shuffle machinery.\n"
   ]
  },
  {
   "cell_type": "markdown",
   "metadata": {},
   "source": [
    "|Action|\tMeaning|\n",
    "|---|---|\n",
    "|reduce(func)|\tAggregate the elements of the dataset using a function func (which takes two arguments and returns one). The function should be commutative and associative so that it can be computed correctly in parallel.|\n",
    "|collect()|\tReturn all the elements of the dataset as an array at the driver program. This is usually useful after a filter or other operation that returns a sufficiently small subset of the data.|\n",
    "|count()|\tReturn the number of elements in the dataset.|\n",
    "|first()|\tReturn the first element of the dataset (similar to take(1)).|\n",
    "|take(n)|\tReturn an array with the first n elements of the dataset.|\n",
    "|takeSample(withReplacement, num, [seed])|\tReturn an array with a random sample of num elements of the dataset, with or without replacement, optionally pre-specifying a random number generator seed.\n",
    "|takeOrdered(n, [ordering])|\tReturn the first n elements of the RDD using either their natural order or a custom comparator.|\n",
    "|saveAsTextFile(path)|\tWrite the elements of the dataset as a text file (or set of text files) in a given directory in the local filesystem, HDFS or any other Hadoop-supported file system. Spark will call toString on each element to convert it to a line of text in the file.|\n",
    "|saveAsSequenceFile(path)|(Java and Scala)\tWrite the elements of the dataset as a Hadoop SequenceFile in a given path in the |local filesystem, HDFS or any other Hadoop-supported file system. This is available on RDDs of key-value pairs that implement Hadoop's Writable interface. In Scala, it is also available on types that are implicitly convertible to Writable (Spark includes conversions for basic types like Int, Double, String, etc).|\n",
    "|saveAsObjectFile(path)|(Java and Scala)\tWrite the elements of the dataset in a simple format using Java serialization, |which can then be loaded using SparkContext.objectFile().|\n",
    "|countByKey()|\tOnly available on RDDs of type (K, V). Returns a hashmap of (K, Int) pairs with the count of each key.|\n",
    "|foreach(func)|\tRun a function func on each element of the dataset. This is usually done for side effects such as updating an Accumulator or interacting with external storage systems. Note: modifying variables other than Accumulators outside of the foreach() may result in undefined behavior. See Understanding closures for more details.|"
   ]
  },
  {
   "cell_type": "markdown",
   "metadata": {},
   "source": [
    "## Persistencia y RDDS\n",
    "\n",
    "- Cada nodo almacena las particiones en la memoria caché(cálculos en memoria)\n",
    "\n",
    "- Reutilización de las particiones enotras acciones sobre el RDD (rapidez y eficiencia)\n",
    "\n",
    "- Dos métodos: persis() | cache() -> persist() + MEMORY_ONLY\n",
    "\n",
    "\n",
    "\n",
    "|Storage Level|\tMeaning|\n",
    "|---|---|\n",
    "|MEMORY_ONLY|\tStore RDD as deserialized Java objects in the JVM. If the RDD does not fit in memory, |some partitions will not be cached and will be recomputed on the fly each time they're needed. This is the default level.\n",
    "|MEMORY_AND_DISK|\tStore RDD as deserialized Java objects in the JVM. If the RDD does not fit in |memory, store the partitions that don't fit on disk, and read them from there when they're needed.\n",
    "|MEMORY_ONLY_SER| (Java and Scala)\tStore RDD as serialized Java objects (one byte array per partition). This is |generally more space-efficient than deserialized objects, especially when using a fast serializer, but more CPU-intensive to read.|\n",
    "|MEMORY_AND_DISK_SER| (Java and Scala)\tSimilar to MEMORY_ONLY_SER, but spill partitions that don't fit in memory to disk |instead of recomputing them on the fly each time they're needed.|\n",
    "|DISK_ONLY|\tStore the RDD partitions only on disk.|\n",
    "|MEMORY_ONLY_2, MEMORY_AND_DISK_2, etc.|\tSame as the levels above, but replicate each partition on two cluster nodes.|\n",
    "|OFF_HEAP (experimental)|\tSimilar to MEMORY_ONLY_SER, but store the data in off-heap memory. This requires off-heap memory to be enabled.|\n"
   ]
  },
  {
   "cell_type": "markdown",
   "metadata": {},
   "source": [
    "## Recomendaciones sobre cuál nivel usar? (IBM)\n",
    "\n",
    "- Por defecto usar MEMORY_ONLY y si no es posible utlilizarlo por restricciones computacionales, utilizar MEMORY_ONLY_SER que implica utilizar una líbrearía en conjunto de serialización de memoria en disco, muchas más rápidas de las que vienen por defecto.\n",
    "\n",
    "## Acumuladores y variables Broadcast\n",
    "\n",
    "- El driver envía una copia separada de las variables a los nodos.\n",
    "\n",
    "- Implementar el concepto de estado compartido (share state)\n",
    "    - Broadcast variable. La variable se envía una sola vez a todos los nodos\n",
    "        - Es de solo lectura (inmutable)\n",
    "        - sc.broadcast(value)->devuelve la referencia a la variable\n",
    "    - Accumulator\n",
    "        - Contadores y sumas (operaciones de agregación): add() | +=\n",
    "        - Solo el driver puede leer el valor de la variable acumulador\n",
    "        - Solo los nodos pueden agregar información al acumulador(sumas)\n",
    "        - Soporte para tipos numéricos (aunque se pueden implementar tipos específicos)\n",
    "        \n",
    "- Ejemplo en Scala"
   ]
  },
  {
   "cell_type": "code",
   "execution_count": 7,
   "metadata": {},
   "outputs": [],
   "source": [
    "# Spark-shell\n",
    "# val accum = sc.longAccumulator(\"My Accumulator\")\n",
    "# sc.parallelize(Array(1,2,3,4)).foreach(x => accum.add(x))\n",
    "# accum.value"
   ]
  },
  {
   "cell_type": "markdown",
   "metadata": {},
   "source": [
    "- Ejemplo en pyspark"
   ]
  },
  {
   "cell_type": "code",
   "execution_count": 14,
   "metadata": {},
   "outputs": [],
   "source": [
    "accum = sc.accumulator(0)"
   ]
  },
  {
   "cell_type": "code",
   "execution_count": 15,
   "metadata": {},
   "outputs": [
    {
     "data": {
      "text/plain": [
       "Accumulator<id=2, value=0>"
      ]
     },
     "execution_count": 15,
     "metadata": {},
     "output_type": "execute_result"
    }
   ],
   "source": [
    "accum"
   ]
  },
  {
   "cell_type": "code",
   "execution_count": 17,
   "metadata": {},
   "outputs": [],
   "source": [
    "sc.parallelize([1,2,3,4]).foreach(lambda x:accum.add(x))"
   ]
  },
  {
   "cell_type": "code",
   "execution_count": 18,
   "metadata": {},
   "outputs": [
    {
     "data": {
      "text/plain": [
       "10"
      ]
     },
     "execution_count": 18,
     "metadata": {},
     "output_type": "execute_result"
    }
   ],
   "source": [
    "accum.value"
   ]
  },
  {
   "cell_type": "markdown",
   "metadata": {},
   "source": [
    "## Dataframes y Datasets\n",
    "\n",
    "- Desventajas del API de RDD\n",
    "    - % Alto de datos estructurados / semiestructurados (JSON, CSV, Avro, Parquet, Hive)-> Uso intensivo de tuplas en RDDs (_1,_2,[0],[1]...)\n",
    "    - Las transformaciones funcionales no son intuitivas (map/reduce, etc.)\n",
    "    \n",
    "Ejemplo:"
   ]
  },
  {
   "cell_type": "code",
   "execution_count": null,
   "metadata": {},
   "outputs": [],
   "source": [
    "pdata.map(lambda x: (x.dept, [x.age, 1]))\n",
    "     .reduceByKey(lambda x,y: [x[0] + y[0], x[1] + y[1]])\n",
    "     .map(lambda x: [x[0], x[1][0] / x[1][1]])\n",
    "     .collect()"
   ]
  },
  {
   "cell_type": "markdown",
   "metadata": {},
   "source": [
    "Se podría traducir como:"
   ]
  },
  {
   "cell_type": "code",
   "execution_count": null,
   "metadata": {},
   "outputs": [],
   "source": [
    "pdata.groupBy(\"dept\").avg(\"age\")"
   ]
  },
  {
   "cell_type": "markdown",
   "metadata": {},
   "source": [
    "Mas sobre Datasets y Dataframes:\n",
    "\n",
    "- Colección distribuida de datos agrupadas en columnas con nombre\n",
    "    - RDD con esquema de datos (SchemaRDD)\n",
    "- Funciones específicas de dominio diseñadas para las tareas comunes\n",
    "    - Metadata\n",
    "    - Sampling\n",
    "    - Filtrado, Agregación, Union, ...\n",
    "    - UDFs\n",
    "- Disponibles en Python, Scala, Java y R (SparkR)"
   ]
  },
  {
   "cell_type": "markdown",
   "metadata": {},
   "source": [
    "Los datasets y dataframes mejoran la legibilidad del código y mejoran la eficiencia de ejución."
   ]
  },
  {
   "cell_type": "markdown",
   "metadata": {},
   "source": [
    "## Optimización y soporte\n",
    "\n",
    "Versiones 1.X\n",
    "\n",
    "    - Optimizadas: Catalyst Optimizer > RDDs\n",
    "        - Spark SQL / Dataframes: \n",
    "\n",
    "    - No optimizadas: RDDs\n",
    "        - Spark Streaming / MLlib (RDD based) / GraphX\n",
    "\n",
    "Versiones 2.x\n",
    "\n",
    "    - Optimizadas: Catalyst Optimizer > RDDs\n",
    "        - SparkSQL / DataFrames / Datasets\n",
    "        - MLlib (DF based)\n",
    "        - Structured Streaming\n",
    "        - GraphFrames\n",
    "\n",
    "    - No optimizadas: RDDs\n",
    "        - Spark Streaming\n",
    "        - MLlib (RDD based)\n",
    "        - GraphX"
   ]
  }
 ],
 "metadata": {
  "kernelspec": {
   "display_name": "Python 3",
   "language": "python",
   "name": "python3"
  },
  "language_info": {
   "codemirror_mode": {
    "name": "ipython",
    "version": 3
   },
   "file_extension": ".py",
   "mimetype": "text/x-python",
   "name": "python",
   "nbconvert_exporter": "python",
   "pygments_lexer": "ipython3",
   "version": "3.8.3"
  }
 },
 "nbformat": 4,
 "nbformat_minor": 4
}
